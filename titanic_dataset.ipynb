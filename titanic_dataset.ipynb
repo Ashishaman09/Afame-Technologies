{
 "cells": [
  {
   "cell_type": "code",
   "execution_count": null,
   "id": "4d9e0f6c-ea02-4147-8182-4325a1476b0e",
   "metadata": {},
   "outputs": [],
   "source": [
    "from sklearn.model_selection import train_test_split"
   ]
  },
  {
   "cell_type": "code",
   "execution_count": 20,
   "id": "f17861ce-5d1c-4289-bac6-9f822aa34219",
   "metadata": {},
   "outputs": [],
   "source": [
    "import numpy as np\n",
    "import pandas as pd\n",
    "import seaborn as sns\n",
    "import matplotlib.pyplot as plt"
   ]
  },
  {
   "cell_type": "code",
   "execution_count": 23,
   "id": "d6ef381a-c118-46ce-8815-5ed46133ebf1",
   "metadata": {},
   "outputs": [],
   "source": [
    "df = pd.read_csv('Titanic-Dataset.csv')"
   ]
  },
  {
   "cell_type": "code",
   "execution_count": 24,
   "id": "ad6db156-efe4-4a16-b721-a1810ac3557b",
   "metadata": {},
   "outputs": [
    {
     "data": {
      "text/html": [
       "<div>\n",
       "<style scoped>\n",
       "    .dataframe tbody tr th:only-of-type {\n",
       "        vertical-align: middle;\n",
       "    }\n",
       "\n",
       "    .dataframe tbody tr th {\n",
       "        vertical-align: top;\n",
       "    }\n",
       "\n",
       "    .dataframe thead th {\n",
       "        text-align: right;\n",
       "    }\n",
       "</style>\n",
       "<table border=\"1\" class=\"dataframe\">\n",
       "  <thead>\n",
       "    <tr style=\"text-align: right;\">\n",
       "      <th></th>\n",
       "      <th>PassengerId</th>\n",
       "      <th>Survived</th>\n",
       "      <th>Pclass</th>\n",
       "      <th>Name</th>\n",
       "      <th>Sex</th>\n",
       "      <th>Age</th>\n",
       "      <th>SibSp</th>\n",
       "      <th>Parch</th>\n",
       "      <th>Ticket</th>\n",
       "      <th>Fare</th>\n",
       "      <th>Cabin</th>\n",
       "      <th>Embarked</th>\n",
       "    </tr>\n",
       "  </thead>\n",
       "  <tbody>\n",
       "    <tr>\n",
       "      <th>0</th>\n",
       "      <td>1</td>\n",
       "      <td>0</td>\n",
       "      <td>3</td>\n",
       "      <td>Braund, Mr. Owen Harris</td>\n",
       "      <td>male</td>\n",
       "      <td>22.0</td>\n",
       "      <td>1</td>\n",
       "      <td>0</td>\n",
       "      <td>A/5 21171</td>\n",
       "      <td>7.2500</td>\n",
       "      <td>NaN</td>\n",
       "      <td>S</td>\n",
       "    </tr>\n",
       "    <tr>\n",
       "      <th>1</th>\n",
       "      <td>2</td>\n",
       "      <td>1</td>\n",
       "      <td>1</td>\n",
       "      <td>Cumings, Mrs. John Bradley (Florence Briggs Th...</td>\n",
       "      <td>female</td>\n",
       "      <td>38.0</td>\n",
       "      <td>1</td>\n",
       "      <td>0</td>\n",
       "      <td>PC 17599</td>\n",
       "      <td>71.2833</td>\n",
       "      <td>C85</td>\n",
       "      <td>C</td>\n",
       "    </tr>\n",
       "    <tr>\n",
       "      <th>2</th>\n",
       "      <td>3</td>\n",
       "      <td>1</td>\n",
       "      <td>3</td>\n",
       "      <td>Heikkinen, Miss. Laina</td>\n",
       "      <td>female</td>\n",
       "      <td>26.0</td>\n",
       "      <td>0</td>\n",
       "      <td>0</td>\n",
       "      <td>STON/O2. 3101282</td>\n",
       "      <td>7.9250</td>\n",
       "      <td>NaN</td>\n",
       "      <td>S</td>\n",
       "    </tr>\n",
       "    <tr>\n",
       "      <th>3</th>\n",
       "      <td>4</td>\n",
       "      <td>1</td>\n",
       "      <td>1</td>\n",
       "      <td>Futrelle, Mrs. Jacques Heath (Lily May Peel)</td>\n",
       "      <td>female</td>\n",
       "      <td>35.0</td>\n",
       "      <td>1</td>\n",
       "      <td>0</td>\n",
       "      <td>113803</td>\n",
       "      <td>53.1000</td>\n",
       "      <td>C123</td>\n",
       "      <td>S</td>\n",
       "    </tr>\n",
       "    <tr>\n",
       "      <th>4</th>\n",
       "      <td>5</td>\n",
       "      <td>0</td>\n",
       "      <td>3</td>\n",
       "      <td>Allen, Mr. William Henry</td>\n",
       "      <td>male</td>\n",
       "      <td>35.0</td>\n",
       "      <td>0</td>\n",
       "      <td>0</td>\n",
       "      <td>373450</td>\n",
       "      <td>8.0500</td>\n",
       "      <td>NaN</td>\n",
       "      <td>S</td>\n",
       "    </tr>\n",
       "  </tbody>\n",
       "</table>\n",
       "</div>"
      ],
      "text/plain": [
       "   PassengerId  Survived  Pclass  \\\n",
       "0            1         0       3   \n",
       "1            2         1       1   \n",
       "2            3         1       3   \n",
       "3            4         1       1   \n",
       "4            5         0       3   \n",
       "\n",
       "                                                Name     Sex   Age  SibSp  \\\n",
       "0                            Braund, Mr. Owen Harris    male  22.0      1   \n",
       "1  Cumings, Mrs. John Bradley (Florence Briggs Th...  female  38.0      1   \n",
       "2                             Heikkinen, Miss. Laina  female  26.0      0   \n",
       "3       Futrelle, Mrs. Jacques Heath (Lily May Peel)  female  35.0      1   \n",
       "4                           Allen, Mr. William Henry    male  35.0      0   \n",
       "\n",
       "   Parch            Ticket     Fare Cabin Embarked  \n",
       "0      0         A/5 21171   7.2500   NaN        S  \n",
       "1      0          PC 17599  71.2833   C85        C  \n",
       "2      0  STON/O2. 3101282   7.9250   NaN        S  \n",
       "3      0            113803  53.1000  C123        S  \n",
       "4      0            373450   8.0500   NaN        S  "
      ]
     },
     "execution_count": 24,
     "metadata": {},
     "output_type": "execute_result"
    }
   ],
   "source": [
    "df.head()"
   ]
  },
  {
   "cell_type": "code",
   "execution_count": 25,
   "id": "ebacf7d1-19db-41a0-9a04-6d20eb75fbd7",
   "metadata": {},
   "outputs": [
    {
     "name": "stdout",
     "output_type": "stream",
     "text": [
      "<class 'pandas.core.frame.DataFrame'>\n",
      "RangeIndex: 891 entries, 0 to 890\n",
      "Data columns (total 12 columns):\n",
      " #   Column       Non-Null Count  Dtype  \n",
      "---  ------       --------------  -----  \n",
      " 0   PassengerId  891 non-null    int64  \n",
      " 1   Survived     891 non-null    int64  \n",
      " 2   Pclass       891 non-null    int64  \n",
      " 3   Name         891 non-null    object \n",
      " 4   Sex          891 non-null    object \n",
      " 5   Age          714 non-null    float64\n",
      " 6   SibSp        891 non-null    int64  \n",
      " 7   Parch        891 non-null    int64  \n",
      " 8   Ticket       891 non-null    object \n",
      " 9   Fare         891 non-null    float64\n",
      " 10  Cabin        204 non-null    object \n",
      " 11  Embarked     889 non-null    object \n",
      "dtypes: float64(2), int64(5), object(5)\n",
      "memory usage: 83.7+ KB\n"
     ]
    }
   ],
   "source": [
    "df.info()"
   ]
  },
  {
   "cell_type": "code",
   "execution_count": 26,
   "id": "b53eab12-7c14-44e9-9abc-260ff2e9c7ba",
   "metadata": {},
   "outputs": [
    {
     "data": {
      "text/plain": [
       "Cabin          77.104377\n",
       "Age            19.865320\n",
       "Embarked        0.224467\n",
       "PassengerId     0.000000\n",
       "Name            0.000000\n",
       "Pclass          0.000000\n",
       "Survived        0.000000\n",
       "Sex             0.000000\n",
       "Parch           0.000000\n",
       "SibSp           0.000000\n",
       "Fare            0.000000\n",
       "Ticket          0.000000\n",
       "dtype: float64"
      ]
     },
     "execution_count": 26,
     "metadata": {},
     "output_type": "execute_result"
    }
   ],
   "source": [
    "# Cheecking % of columns with missing values\n",
    "df.isnull().sum().sort_values(ascending=False)*100/len(df)"
   ]
  },
  {
   "cell_type": "code",
   "execution_count": 28,
   "id": "43afb061-6b69-455a-a1df-a34f31cf6417",
   "metadata": {},
   "outputs": [
    {
     "data": {
      "text/plain": [
       "Index(['PassengerId', 'Survived', 'Pclass', 'Name', 'Sex', 'Age', 'SibSp',\n",
       "       'Parch', 'Ticket', 'Fare', 'Embarked'],\n",
       "      dtype='object')"
      ]
     },
     "execution_count": 28,
     "metadata": {},
     "output_type": "execute_result"
    }
   ],
   "source": [
    "# Removing columns \"Cabin\"\n",
    "df.drop(columns = 'Cabin', axis = 1, inplace = True)\n",
    "df.columns"
   ]
  },
  {
   "cell_type": "code",
   "execution_count": 29,
   "id": "06ffbba4-9037-435c-b985-ab566a33ef47",
   "metadata": {},
   "outputs": [],
   "source": [
    "# Filling Null Values in Age column with mean values of age column\n",
    "df['Age'] = df['Age'].fillna(df['Age'].mean())\n",
    "\n",
    "# filling null values in Embarked Column with mode values of embarked column\n",
    "df['Embarked'] = df['Embarked'].fillna(df['Embarked'].mode()[0])"
   ]
  },
  {
   "cell_type": "code",
   "execution_count": 30,
   "id": "8985fd70-f798-4671-9c08-f16f0005f0e1",
   "metadata": {},
   "outputs": [
    {
     "data": {
      "text/plain": [
       "PassengerId    0\n",
       "Survived       0\n",
       "Pclass         0\n",
       "Name           0\n",
       "Sex            0\n",
       "Age            0\n",
       "SibSp          0\n",
       "Parch          0\n",
       "Ticket         0\n",
       "Fare           0\n",
       "Embarked       0\n",
       "dtype: int64"
      ]
     },
     "execution_count": 30,
     "metadata": {},
     "output_type": "execute_result"
    }
   ],
   "source": [
    "df.isna().sum()"
   ]
  },
  {
   "cell_type": "code",
   "execution_count": 31,
   "id": "03e970cc-04c2-4097-8537-0874ffea1019",
   "metadata": {},
   "outputs": [],
   "source": [
    "df.drop(columns=['PassengerId','Name','Ticket'],axis=1,inplace=True)"
   ]
  },
  {
   "cell_type": "code",
   "execution_count": 32,
   "id": "7af88abd-9632-4d99-b398-fddc818165c3",
   "metadata": {},
   "outputs": [
    {
     "data": {
      "text/plain": [
       "Index(['Survived', 'Pclass', 'Sex', 'Age', 'SibSp', 'Parch', 'Fare',\n",
       "       'Embarked'],\n",
       "      dtype='object')"
      ]
     },
     "execution_count": 32,
     "metadata": {},
     "output_type": "execute_result"
    }
   ],
   "source": [
    "df.columns"
   ]
  },
  {
   "cell_type": "code",
   "execution_count": 33,
   "id": "57281148-c12b-4271-b22b-7f2b29f5f065",
   "metadata": {},
   "outputs": [
    {
     "name": "stderr",
     "output_type": "stream",
     "text": [
      "C:\\Users\\alokv\\AppData\\Local\\Temp\\ipykernel_14816\\3430723509.py:2: FutureWarning: Downcasting behavior in `replace` is deprecated and will be removed in a future version. To retain the old behavior, explicitly call `result.infer_objects(copy=False)`. To opt-in to the future behavior, set `pd.set_option('future.no_silent_downcasting', True)`\n",
      "  df.replace({'Sex': {'male': 0, 'female': 1}, 'Embarked': {'S': 0, 'C': 1, 'Q': 2}}, inplace=True)\n"
     ]
    }
   ],
   "source": [
    "# converting categorical Columns\n",
    "df.replace({'Sex': {'male': 0, 'female': 1}, 'Embarked': {'S': 0, 'C': 1, 'Q': 2}}, inplace=True)"
   ]
  },
  {
   "cell_type": "code",
   "execution_count": 34,
   "id": "4510b497-2e56-4a12-84b0-761be0f6ca7c",
   "metadata": {},
   "outputs": [
    {
     "name": "stdout",
     "output_type": "stream",
     "text": [
      "Survived\n",
      "0    549\n",
      "1    342\n",
      "Name: count, dtype: int64\n"
     ]
    },
    {
     "data": {
      "image/png": "[encoded data removed]",
      "text/plain": [
       "<Figure size 640x480 with 1 Axes>"
      ]
     },
     "metadata": {},
     "output_type": "display_data"
    }
   ],
   "source": [
    "# Plotting CountPlot for Survived Column\n",
    "print(df['Survived'].value_counts())\n",
    "sns.countplot(x=df['Survived'])\n",
    "plt.show()"
   ]
  },
  {
   "cell_type": "markdown",
   "id": "3423d80e-5301-49eb-b2c8-b0e44f5a0221",
   "metadata": {},
   "source": [
    "Prediction"
   ]
  },
  {
   "cell_type": "code",
   "execution_count": 39,
   "id": "500030ad-cbff-4e23-94ef-b134298077cf",
   "metadata": {},
   "outputs": [],
   "source": [
    "from sklearn.model_selection import train_test_split\n",
    "from sklearn.ensemble import RandomForestClassifier\n",
    "from sklearn.tree import DecisionTreeClassifier\n",
    "from sklearn.metrics import confusion_matrix,classification_report,accuracy_score"
   ]
  },
  {
   "cell_type": "code",
   "execution_count": 41,
   "id": "0da9645b-3929-4df3-8889-f96302376b76",
   "metadata": {},
   "outputs": [
    {
     "name": "stdout",
     "output_type": "stream",
     "text": [
      "(891, 7)\n",
      "(891,)\n",
      "<class 'pandas.core.frame.DataFrame'>\n",
      "<class 'pandas.core.series.Series'>\n"
     ]
    }
   ],
   "source": [
    "#Selecting the independent and dependent Features\n",
    "cols = ['Pclass','Sex','Age','SibSp','Parch','Fare','Embarked']\n",
    "x = df[cols]\n",
    "y = df['Survived']\n",
    "print(x.shape)\n",
    "print(y.shape)\n",
    "print(type(x))  # DataFrame\n",
    "print(type(y))  # Series"
   ]
  },
  {
   "cell_type": "code",
   "execution_count": 42,
   "id": "710e18e1-4d1f-4a3c-8c97-d9005be68fa2",
   "metadata": {},
   "outputs": [
    {
     "name": "stdout",
     "output_type": "stream",
     "text": [
      "(801, 7)\n",
      "(90, 7)\n",
      "(801,)\n",
      "(90,)\n"
     ]
    }
   ],
   "source": [
    "x_train,x_test,y_train,y_test = train_test_split(x,y,test_size=0.10,random_state=1)\n",
    "print(x_train.shape)\n",
    "print(x_test.shape)\n",
    "print(y_train.shape)\n",
    "print(y_test.shape)"
   ]
  },
  {
   "cell_type": "code",
   "execution_count": 43,
   "id": "59fe1ab3-779c-499a-93f4-85be2ca6dfc5",
   "metadata": {},
   "outputs": [],
   "source": [
    "#Creating Functions to compute Confusion Matrix, Classification Report and to generate Training and the Testing Score(Accuracy)\n",
    "\n",
    "def cls_eval(ytest,ypred):\n",
    "    cm = confusion_matrix(ytest,ypred)\n",
    "    print('Confusion Matrix\\n',cm)\n",
    "    print('Classification Report\\n',classification_report(ytest,ypred))\n",
    "\n",
    "def mscore(model):\n",
    "    print('Training Score',model.score(x_train,y_train))  # Training Accuracy\n",
    "    print('Testing Score',model.score(x_test,y_test))     # Testing Accuracy"
   ]
  },
  {
   "cell_type": "code",
   "execution_count": 44,
   "id": "e1c85e9b-9bcb-455b-b749-c472d7ec8379",
   "metadata": {},
   "outputs": [
    {
     "name": "stdout",
     "output_type": "stream",
     "text": [
      "Training Score 0.9113607990012484\n",
      "Testing Score 0.7555555555555555\n",
      "[1 0 1 1 1 0 0 1 1 1 0 0 0 0 1 0 0 0 0 1 0 0 1 0 1 0 1 1 0 1 1 0 0 0 0 0 1\n",
      " 0 1 0 0 1 1 0 1 0 0 0 0 0 0 1 0 0 0 0 0 0 0 0 0 0 0 0 0 0 0 0 1 0 0 0 0 0\n",
      " 1 0 1 0 0 1 0 0 0 0 1 0 0 0 0 1]\n",
      "Confusion Matrix\n",
      " [[47  6]\n",
      " [16 21]]\n",
      "Classification Report\n",
      "               precision    recall  f1-score   support\n",
      "\n",
      "           0       0.75      0.89      0.81        53\n",
      "           1       0.78      0.57      0.66        37\n",
      "\n",
      "    accuracy                           0.76        90\n",
      "   macro avg       0.76      0.73      0.73        90\n",
      "weighted avg       0.76      0.76      0.75        90\n",
      "\n",
      "Accuracy Score 0.7555555555555555\n"
     ]
    }
   ],
   "source": [
    "# Building the RandomForest Classifier Model\n",
    "rfc=RandomForestClassifier(n_estimators=80,criterion='entropy',min_samples_split=5,max_depth=10)\n",
    "rfc.fit(x_train,y_train)\n",
    "# Computing Training and Testing score\n",
    "mscore(rfc)\n",
    "# Generating Prediction\n",
    "ypred_rfc = rfc.predict(x_test)\n",
    "print(ypred_rfc)\n",
    "\n",
    "# Evaluate the model - confusion matrix, classification Report, Accuracy score\n",
    "cls_eval(y_test,ypred_rfc)\n",
    "acc_rfc = accuracy_score(y_test,ypred_rfc)\n",
    "print('Accuracy Score',acc_rfc)"
   ]
  },
  {
   "cell_type": "code",
   "execution_count": 45,
   "id": "bf27749d-49ba-4c0f-b115-8d6e90c8f308",
   "metadata": {},
   "outputs": [
    {
     "name": "stdout",
     "output_type": "stream",
     "text": [
      "Training Score 0.8551810237203495\n",
      "Testing Score 0.7777777777777778\n",
      "[1 0 1 1 1 0 0 1 0 1 0 1 0 0 1 0 0 0 0 1 0 0 1 0 1 0 1 1 0 1 1 0 0 1 0 0 1\n",
      " 0 0 0 1 1 1 0 1 0 0 0 0 0 0 1 0 0 0 1 0 0 0 1 0 0 0 0 0 1 0 0 1 0 0 0 0 0\n",
      " 1 0 1 0 0 1 0 0 0 0 1 0 0 0 0 1]\n",
      "Confusion Matrix\n",
      " [[46  7]\n",
      " [13 24]]\n",
      "Classification Report\n",
      "               precision    recall  f1-score   support\n",
      "\n",
      "           0       0.78      0.87      0.82        53\n",
      "           1       0.77      0.65      0.71        37\n",
      "\n",
      "    accuracy                           0.78        90\n",
      "   macro avg       0.78      0.76      0.76        90\n",
      "weighted avg       0.78      0.78      0.77        90\n",
      "\n",
      "Accuracy Score 0.7777777777777778\n"
     ]
    }
   ],
   "source": [
    "# Building the DecisionTree Classifier Model\n",
    "dt = DecisionTreeClassifier(max_depth=5,criterion='entropy',min_samples_split=10)\n",
    "dt.fit(x_train, y_train)\n",
    "# Computing Training and Testing score\n",
    "mscore(dt)\n",
    "# Generating Prediction\n",
    "ypred_dt = dt.predict(x_test)\n",
    "print(ypred_dt)\n",
    "# Evaluate the model - confusion matrix, classification Report, Accuracy score\n",
    "cls_eval(y_test,ypred_dt)\n",
    "acc_dt = accuracy_score(y_test,ypred_dt)\n",
    "print('Accuracy Score',acc_dt)"
   ]
  },
  {
   "cell_type": "markdown",
   "id": "a3751970-5cdd-498f-a78f-47a4c0304e27",
   "metadata": {},
   "source": [
    "As seen above: We get higher accuracy for Decision Tree"
   ]
  },
  {
   "cell_type": "code",
   "execution_count": 46,
   "id": "537d1a11-0e15-483f-ae0d-2de19fa6428b",
   "metadata": {},
   "outputs": [
    {
     "data": {
      "text/html": [
       "<div>\n",
       "<style scoped>\n",
       "    .dataframe tbody tr th:only-of-type {\n",
       "        vertical-align: middle;\n",
       "    }\n",
       "\n",
       "    .dataframe tbody tr th {\n",
       "        vertical-align: top;\n",
       "    }\n",
       "\n",
       "    .dataframe thead th {\n",
       "        text-align: right;\n",
       "    }\n",
       "</style>\n",
       "<table border=\"1\" class=\"dataframe\">\n",
       "  <thead>\n",
       "    <tr style=\"text-align: right;\">\n",
       "      <th></th>\n",
       "      <th>Model</th>\n",
       "      <th>Score</th>\n",
       "    </tr>\n",
       "  </thead>\n",
       "  <tbody>\n",
       "    <tr>\n",
       "      <th>1</th>\n",
       "      <td>Decision Tree Classifier</td>\n",
       "      <td>0.777778</td>\n",
       "    </tr>\n",
       "    <tr>\n",
       "      <th>0</th>\n",
       "      <td>Random Forest Classifier</td>\n",
       "      <td>0.755556</td>\n",
       "    </tr>\n",
       "  </tbody>\n",
       "</table>\n",
       "</div>"
      ],
      "text/plain": [
       "                      Model     Score\n",
       "1  Decision Tree Classifier  0.777778\n",
       "0  Random Forest Classifier  0.755556"
      ]
     },
     "execution_count": 46,
     "metadata": {},
     "output_type": "execute_result"
    }
   ],
   "source": [
    "#creating data frame\n",
    "\n",
    "models = pd.DataFrame({\n",
    "    'Model': ['Random Forest Classifier','Decision Tree Classifier'],\n",
    "    'Score': [acc_rfc,acc_dt,]})\n",
    "\n",
    "models.sort_values(by = 'Score', ascending = False)"
   ]
  },
  {
   "cell_type": "code",
   "execution_count": 48,
   "id": "3acb766d-b461-45b4-b6e8-2c973925a044",
   "metadata": {},
   "outputs": [
    {
     "data": {
      "image/png": "[encoded data removed]",
      "text/plain": [
       "<Figure size 1000x500 with 1 Axes>"
      ]
     },
     "metadata": {},
     "output_type": "display_data"
    }
   ],
   "source": [
    "colors = [\"red\",\"green\"]\n",
    "\n",
    "sns.set_style(\"whitegrid\")\n",
    "plt.figure(figsize=(10,5))\n",
    "plt.ylabel(\"Accuracy %\")\n",
    "plt.xlabel(\"Algorithms\")\n",
    "sns.barplot(x=models['Model'], y=models['Score'], hue=models['Model'], palette=colors, legend=False)\n",
    "plt.show()"
   ]
  },
  {
   "cell_type": "code",
   "execution_count": null,
   "id": "61c56999-e336-4ed7-90b2-637922df6037",
   "metadata": {},
   "outputs": [],
   "source": []
  }
 ],
 "metadata": {
  "kernelspec": {
   "display_name": "Python 3 (ipykernel)",
   "language": "python",
   "name": "python3"
  },
  "language_info": {
   "codemirror_mode": {
    "name": "ipython",
    "version": 3
   },
   "file_extension": ".py",
   "mimetype": "text/x-python",
   "name": "python",
   "nbconvert_exporter": "python",
   "pygments_lexer": "ipython3",
   "version": "3.13.0"
  }
 },
 "nbformat": 4,
 "nbformat_minor": 5
}
